{
 "cells": [
  {
   "cell_type": "code",
   "execution_count": 1,
   "id": "f40d316f",
   "metadata": {},
   "outputs": [
    {
     "data": {
      "text/html": [
       "<div>\n",
       "<style scoped>\n",
       "    .dataframe tbody tr th:only-of-type {\n",
       "        vertical-align: middle;\n",
       "    }\n",
       "\n",
       "    .dataframe tbody tr th {\n",
       "        vertical-align: top;\n",
       "    }\n",
       "\n",
       "    .dataframe thead th {\n",
       "        text-align: right;\n",
       "    }\n",
       "</style>\n",
       "<table border=\"1\" class=\"dataframe\">\n",
       "  <thead>\n",
       "    <tr style=\"text-align: right;\">\n",
       "      <th></th>\n",
       "      <th>Mileage</th>\n",
       "      <th>Age</th>\n",
       "      <th>Price</th>\n",
       "    </tr>\n",
       "  </thead>\n",
       "  <tbody>\n",
       "    <tr>\n",
       "      <th>0</th>\n",
       "      <td>69000</td>\n",
       "      <td>6</td>\n",
       "      <td>18000</td>\n",
       "    </tr>\n",
       "    <tr>\n",
       "      <th>1</th>\n",
       "      <td>35000</td>\n",
       "      <td>3</td>\n",
       "      <td>34000</td>\n",
       "    </tr>\n",
       "    <tr>\n",
       "      <th>2</th>\n",
       "      <td>57000</td>\n",
       "      <td>5</td>\n",
       "      <td>26100</td>\n",
       "    </tr>\n",
       "    <tr>\n",
       "      <th>3</th>\n",
       "      <td>22500</td>\n",
       "      <td>2</td>\n",
       "      <td>40000</td>\n",
       "    </tr>\n",
       "    <tr>\n",
       "      <th>4</th>\n",
       "      <td>46000</td>\n",
       "      <td>4</td>\n",
       "      <td>31500</td>\n",
       "    </tr>\n",
       "  </tbody>\n",
       "</table>\n",
       "</div>"
      ],
      "text/plain": [
       "   Mileage  Age  Price\n",
       "0    69000    6  18000\n",
       "1    35000    3  34000\n",
       "2    57000    5  26100\n",
       "3    22500    2  40000\n",
       "4    46000    4  31500"
      ]
     },
     "execution_count": 1,
     "metadata": {},
     "output_type": "execute_result"
    }
   ],
   "source": [
    "import pandas as pd\n",
    "df = pd.read_csv(\"carprice.csv\")\n",
    "df.head()"
   ]
  },
  {
   "cell_type": "code",
   "execution_count": 2,
   "id": "7092dbc9",
   "metadata": {},
   "outputs": [],
   "source": [
    "X = df[['Mileage','Age']]\n",
    "y = df['Price']"
   ]
  },
  {
   "cell_type": "code",
   "execution_count": 3,
   "id": "d3bf86fb",
   "metadata": {},
   "outputs": [],
   "source": [
    "from sklearn.linear_model import LinearRegression\n",
    "clf = LinearRegression()"
   ]
  },
  {
   "cell_type": "code",
   "execution_count": 4,
   "id": "4c92735a",
   "metadata": {},
   "outputs": [
    {
     "data": {
      "text/plain": [
       "array([0.82054878, 0.87887133, 0.90467673])"
      ]
     },
     "execution_count": 4,
     "metadata": {},
     "output_type": "execute_result"
    }
   ],
   "source": [
    "from sklearn.model_selection import cross_val_score\n",
    "scores=cross_val_score(clf,X,y,cv=3)\n",
    "scores"
   ]
  },
  {
   "cell_type": "code",
   "execution_count": 5,
   "id": "d5bf7087",
   "metadata": {},
   "outputs": [
    {
     "name": "stdout",
     "output_type": "stream",
     "text": [
      "0.868032281158753\n"
     ]
    }
   ],
   "source": [
    "print(scores.mean())"
   ]
  },
  {
   "cell_type": "code",
   "execution_count": 6,
   "id": "2990cc4a",
   "metadata": {},
   "outputs": [],
   "source": [
    "from sklearn.linear_model import Ridge\n",
    "from sklearn.model_selection import GridSearchCV"
   ]
  },
  {
   "cell_type": "code",
   "execution_count": 7,
   "id": "07ef00e5",
   "metadata": {},
   "outputs": [
    {
     "data": {
      "text/plain": [
       "GridSearchCV(cv=3, estimator=Ridge(),\n",
       "             param_grid={'alpha': [1e-15, 1e-10, 1e-08, 0.001, 0.01, 1, 5, 10,\n",
       "                                   20, 30, 35, 40, 45, 50, 55, 100, 1000]})"
      ]
     },
     "execution_count": 7,
     "metadata": {},
     "output_type": "execute_result"
    }
   ],
   "source": [
    "ridge=Ridge()\n",
    "parameters={'alpha':[1e-15,1e-10,1e-8,1e-3,1e-2,1,5,10,20,30,35,40,45,50,55,100,1000]}\n",
    "gs=GridSearchCV(ridge,parameters,cv=3)\n",
    "gs.fit(X,y)"
   ]
  },
  {
   "cell_type": "code",
   "execution_count": 8,
   "id": "aac84f35",
   "metadata": {},
   "outputs": [
    {
     "name": "stdout",
     "output_type": "stream",
     "text": [
      "{'alpha': 1000}\n",
      "0.8779630132747659\n",
      "Ridge(alpha=1000)\n"
     ]
    }
   ],
   "source": [
    "print(gs.best_params_)\n",
    "print(gs.best_score_)\n",
    "print(gs.best_estimator_)"
   ]
  },
  {
   "cell_type": "code",
   "execution_count": 9,
   "id": "21c1dbaf",
   "metadata": {},
   "outputs": [
    {
     "data": {
      "text/plain": [
       "{'mean_fit_time': array([0.00969911, 0.00645574, 0.00294232, 0.00481749, 0.0028429 ,\n",
       "        0.00304556, 0.00223128, 0.00230813, 0.00183423, 0.00357747,\n",
       "        0.00318138, 0.00322223, 0.0037574 , 0.00271169, 0.00283615,\n",
       "        0.00176835, 0.00316842]),\n",
       " 'std_fit_time': array([6.04056535e-03, 1.65341557e-03, 5.76687182e-04, 1.36980175e-03,\n",
       "        8.41680417e-04, 5.00556878e-04, 6.29308638e-05, 4.59914816e-04,\n",
       "        2.03040668e-04, 1.59762660e-03, 1.03680791e-03, 1.23630464e-03,\n",
       "        2.95648299e-03, 4.22747643e-04, 6.38965479e-04, 2.35361608e-04,\n",
       "        5.38035404e-04]),\n",
       " 'mean_score_time': array([0.00348822, 0.00360107, 0.00271495, 0.00208656, 0.0019691 ,\n",
       "        0.00243028, 0.00153057, 0.00242639, 0.00119551, 0.00124065,\n",
       "        0.0021402 , 0.00129334, 0.00161823, 0.00208497, 0.00109529,\n",
       "        0.00140047, 0.00240024]),\n",
       " 'std_score_time': array([7.06001558e-04, 1.69216455e-03, 4.82356173e-04, 1.35312620e-04,\n",
       "        2.73262294e-04, 8.78026721e-04, 2.17862434e-04, 1.84656287e-03,\n",
       "        2.79107982e-04, 2.69184489e-04, 6.93235419e-04, 2.65958772e-04,\n",
       "        2.41594017e-04, 7.34026984e-04, 6.62566332e-05, 2.49254965e-04,\n",
       "        1.12381411e-03]),\n",
       " 'param_alpha': masked_array(data=[1e-15, 1e-10, 1e-08, 0.001, 0.01, 1, 5, 10, 20, 30, 35,\n",
       "                    40, 45, 50, 55, 100, 1000],\n",
       "              mask=[False, False, False, False, False, False, False, False,\n",
       "                    False, False, False, False, False, False, False, False,\n",
       "                    False],\n",
       "        fill_value='?',\n",
       "             dtype=object),\n",
       " 'params': [{'alpha': 1e-15},\n",
       "  {'alpha': 1e-10},\n",
       "  {'alpha': 1e-08},\n",
       "  {'alpha': 0.001},\n",
       "  {'alpha': 0.01},\n",
       "  {'alpha': 1},\n",
       "  {'alpha': 5},\n",
       "  {'alpha': 10},\n",
       "  {'alpha': 20},\n",
       "  {'alpha': 30},\n",
       "  {'alpha': 35},\n",
       "  {'alpha': 40},\n",
       "  {'alpha': 45},\n",
       "  {'alpha': 50},\n",
       "  {'alpha': 55},\n",
       "  {'alpha': 100},\n",
       "  {'alpha': 1000}],\n",
       " 'split0_test_score': array([0.82054878, 0.82054878, 0.82054878, 0.82055328, 0.82059369,\n",
       "        0.82400363, 0.82948446, 0.83169165, 0.83326044, 0.83388603,\n",
       "        0.8340762 , 0.83422242, 0.83433833, 0.83443249, 0.83451048,\n",
       "        0.83487253, 0.83529291]),\n",
       " 'split1_test_score': array([0.87887133, 0.87887133, 0.87887133, 0.87887904, 0.87894809,\n",
       "        0.88413538, 0.89043584, 0.89246009, 0.89376014, 0.89424985,\n",
       "        0.89439566, 0.89450682, 0.89459437, 0.89466511, 0.89472346,\n",
       "        0.89499135, 0.89529656]),\n",
       " 'split2_test_score': array([0.90467673, 0.90467673, 0.90467673, 0.90467601, 0.90466952,\n",
       "        0.9041982 , 0.90367203, 0.90351355, 0.90341431, 0.90337743,\n",
       "        0.9033665 , 0.90335818, 0.90335164, 0.90334636, 0.90334201,\n",
       "        0.90332209, 0.90329957]),\n",
       " 'mean_test_score': array([0.86803228, 0.86803228, 0.86803228, 0.86803611, 0.86807043,\n",
       "        0.87077907, 0.87453077, 0.87588843, 0.87681163, 0.8771711 ,\n",
       "        0.87727945, 0.87736247, 0.87742812, 0.87748132, 0.87752532,\n",
       "        0.87772865, 0.87796301]),\n",
       " 'std_test_score': array([0.03518988, 0.03518988, 0.03518988, 0.0351884 , 0.03517508,\n",
       "        0.03407429, 0.03230766, 0.03157595, 0.03104653, 0.03083317,\n",
       "        0.03076805, 0.03071791, 0.03067811, 0.03064574, 0.03061891,\n",
       "        0.03049411, 0.0303487 ]),\n",
       " 'rank_test_score': array([17, 16, 15, 14, 13, 12, 11, 10,  9,  8,  7,  6,  5,  4,  3,  2,  1])}"
      ]
     },
     "execution_count": 9,
     "metadata": {},
     "output_type": "execute_result"
    }
   ],
   "source": [
    "scores=gs.cv_results_\n",
    "scores"
   ]
  },
  {
   "cell_type": "code",
   "execution_count": 10,
   "id": "ef75d10b",
   "metadata": {},
   "outputs": [
    {
     "data": {
      "text/plain": [
       "0.874008984830767"
      ]
     },
     "execution_count": 10,
     "metadata": {},
     "output_type": "execute_result"
    }
   ],
   "source": [
    "import numpy as np\n",
    "np.mean(scores['mean_test_score'])"
   ]
  },
  {
   "cell_type": "code",
   "execution_count": null,
   "id": "87214b1f",
   "metadata": {},
   "outputs": [],
   "source": []
  },
  {
   "cell_type": "code",
   "execution_count": null,
   "id": "42cd609f",
   "metadata": {},
   "outputs": [],
   "source": []
  }
 ],
 "metadata": {
  "kernelspec": {
   "display_name": "Python 3 (ipykernel)",
   "language": "python",
   "name": "python3"
  },
  "language_info": {
   "codemirror_mode": {
    "name": "ipython",
    "version": 3
   },
   "file_extension": ".py",
   "mimetype": "text/x-python",
   "name": "python",
   "nbconvert_exporter": "python",
   "pygments_lexer": "ipython3",
   "version": "3.11.5"
  }
 },
 "nbformat": 4,
 "nbformat_minor": 5
}
